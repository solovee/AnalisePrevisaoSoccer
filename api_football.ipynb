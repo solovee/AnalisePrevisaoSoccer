{
 "cells": [
  {
   "cell_type": "code",
   "execution_count": null,
   "id": "a394cfd0",
   "metadata": {},
   "outputs": [],
   "source": [
    "import pandas as pd\n",
    "import numpy as np \n",
    "import requests\n",
    "from dotenv import load_dotenv\n",
    "import os"
   ]
  },
  {
   "cell_type": "code",
   "execution_count": 1,
   "id": "2447c344",
   "metadata": {},
   "outputs": [],
   "source": [
    "#https://www.api-football.com/documentation-v3#section/Authentication/API-SPORTS-Account"
   ]
  },
  {
   "cell_type": "code",
   "execution_count": null,
   "id": "70044981",
   "metadata": {},
   "outputs": [],
   "source": [
    "load_dotenv()\n",
    "api_key = os.getenv(\"API_KEY\")"
   ]
  },
  {
   "cell_type": "code",
   "execution_count": null,
   "id": "cd9d8a43",
   "metadata": {},
   "outputs": [],
   "source": [
    "url = \"https://v3.football.api-sports.io/leagues\"\n",
    "\n",
    "payload={}\n",
    "headers = {\n",
    "  'x-apisports-key': api_key,\n",
    "}\n",
    "\n",
    "response = requests.request(\"GET\", url, headers=headers, data=payload)\n",
    "\n"
   ]
  },
  {
   "cell_type": "code",
   "execution_count": null,
   "id": "760cca68",
   "metadata": {},
   "outputs": [],
   "source": [
    "res = response.json()"
   ]
  },
  {
   "cell_type": "code",
   "execution_count": null,
   "id": "5374d577",
   "metadata": {},
   "outputs": [],
   "source": [
    "res"
   ]
  },
  {
   "cell_type": "code",
   "execution_count": null,
   "id": "dc0cc7d4",
   "metadata": {},
   "outputs": [],
   "source": [
    "res['response'][0]"
   ]
  },
  {
   "cell_type": "code",
   "execution_count": null,
   "id": "40255261",
   "metadata": {},
   "outputs": [],
   "source": [
    "res['response']['seasons']['year']"
   ]
  },
  {
   "cell_type": "code",
   "execution_count": null,
   "id": "737ae647",
   "metadata": {},
   "outputs": [],
   "source": [
    "import pandas as pd\n",
    "\n",
    "ids = []\n",
    "names = []\n",
    "tipo = []\n",
    "countries = []\n",
    "seasons = []\n",
    "\n",
    "for league in res['response']:\n",
    "    ids.append(league['league']['id'])\n",
    "    names.append(league['league']['name'])\n",
    "    tipo.append(league['league']['type'])\n",
    "    countries.append(league['country']['name'])\n",
    "    \n",
    "    # pega TODAS as seasons daquela league\n",
    "    league_seasons = [season['year'] for season in league['seasons']]\n",
    "    seasons.append(league_seasons)\n",
    "\n",
    "df_leagues = pd.DataFrame({\n",
    "    'id': ids,\n",
    "    'name': names,\n",
    "    'type': tipo,\n",
    "    'country': countries,\n",
    "    'seasons': seasons  # agora cada linha tem sua lista\n",
    "})\n"
   ]
  },
  {
   "cell_type": "code",
   "execution_count": null,
   "id": "ab59e055",
   "metadata": {},
   "outputs": [],
   "source": [
    "import pandas as pd\n",
    "\n",
    "\n",
    "\n",
    "df_leagues[\"last_5_years\"] = df_leagues[\"seasons\"].apply(lambda x: sorted(x, reverse=True)[:5])\n",
    "df_leagues[\"tem_ultimos_5\"] = df_leagues[\"last_5_years\"].apply(\n",
    "    lambda anos: anos == [2025, 2024, 2023, 2022, 2021]\n",
    ")\n",
    "\n",
    "df_leagues\n"
   ]
  },
  {
   "cell_type": "code",
   "execution_count": null,
   "id": "9e2a1fb8",
   "metadata": {},
   "outputs": [],
   "source": [
    "df_leagues.to_csv('leagues.csv', index=False)"
   ]
  },
  {
   "cell_type": "code",
   "execution_count": null,
   "id": "a96b424f",
   "metadata": {},
   "outputs": [],
   "source": [
    "df_leagues['name'].value_counts()"
   ]
  },
  {
   "cell_type": "code",
   "execution_count": null,
   "id": "8393d76b",
   "metadata": {},
   "outputs": [],
   "source": [
    "df_5_years = df_leagues[df_leagues['tem_ultimos_5'] == True]"
   ]
  },
  {
   "cell_type": "code",
   "execution_count": null,
   "id": "7c9c722a",
   "metadata": {},
   "outputs": [],
   "source": [
    "df_5_years/fixtures?"
   ]
  },
  {
   "cell_type": "code",
   "execution_count": null,
   "id": "43e32f30",
   "metadata": {},
   "outputs": [],
   "source": [
    "url = \"https://v3.football.api-sports.io/fixtures\"\n",
    "\n",
    "payload={}\n",
    "headers = {\n",
    "  'x-apisports-key': api_key,\n",
    "  league: '39',\n",
    "  season: '2023'\n",
    "}\n",
    "\n",
    "response = requests.request(\"GET\", url, headers=headers, data=payload)"
   ]
  },
  {
   "cell_type": "code",
   "execution_count": null,
   "id": "0cbe89e7",
   "metadata": {},
   "outputs": [],
   "source": [
    "import api\n",
    "\n",
    "\n",
    "api_obj = api.ApiFootball()\n"
   ]
  },
  {
   "cell_type": "code",
   "execution_count": null,
   "id": "35713cb4",
   "metadata": {},
   "outputs": [],
   "source": [
    "api_obj.get_teams(country=\"England\")"
   ]
  }
 ],
 "metadata": {
  "kernelspec": {
   "display_name": "venv",
   "language": "python",
   "name": "python3"
  },
  "language_info": {
   "codemirror_mode": {
    "name": "ipython",
    "version": 3
   },
   "file_extension": ".py",
   "mimetype": "text/x-python",
   "name": "python",
   "nbconvert_exporter": "python",
   "pygments_lexer": "ipython3",
   "version": "3.13.5"
  }
 },
 "nbformat": 4,
 "nbformat_minor": 5
}
